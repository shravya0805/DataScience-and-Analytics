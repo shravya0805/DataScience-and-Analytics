{
  "nbformat": 4,
  "nbformat_minor": 0,
  "metadata": {
    "colab": {
      "name": "Untitled3.ipynb",
      "provenance": []
    },
    "kernelspec": {
      "name": "python3",
      "display_name": "Python 3"
    },
    "language_info": {
      "name": "python"
    }
  },
  "cells": [
    {
      "cell_type": "markdown",
      "metadata": {
        "id": "g6PCQa5zoQpF"
      },
      "source": [
        "\n",
        "### **The** **Sparks** **Foundation** **- GRIP** \n",
        "\n",
        "# DATA SCIENCE AND BUSINESS ANALYTICS"
      ]
    },
    {
      "cell_type": "markdown",
      "metadata": {
        "id": "0wnCMb-4oydg"
      },
      "source": [
        "\n",
        "### **TASK#1** **Prediction** **Using** **Supervised** **ML**\n",
        "\n",
        "Predict the percentage based on the number of hours studied.What is the score obtained if a student studies for 9.25hr/day."
      ]
    },
    {
      "cell_type": "code",
      "metadata": {
        "id": "8F-wVNZzleAg"
      },
      "source": [
        "#Importing Libraries\n",
        "import pandas as pd #importing pandas to read csv file\n",
        "import numpy as np #importing numpy to use arrays\n",
        "import matplotlib.pyplot as plt #importing matplotlib for graphs"
      ],
      "execution_count": 2,
      "outputs": []
    },
    {
      "cell_type": "code",
      "metadata": {
        "colab": {
          "base_uri": "https://localhost:8080/",
          "height": 221
        },
        "id": "ZEjwZWwHlgIF",
        "outputId": "a1469422-d5e7-4ef3-9878-8073a2c6b684"
      },
      "source": [
        "#Reading data from given link\n",
        "data=\"http://bit.ly/w-data\"\n",
        "dframe=pd.read_csv(data)\n",
        "print(\"Data Imported Successfully\")\n",
        "dframe.head() #Views top five data elements "
      ],
      "execution_count": 3,
      "outputs": [
        {
          "output_type": "stream",
          "text": [
            "Data Imported Successfully\n"
          ],
          "name": "stdout"
        },
        {
          "output_type": "execute_result",
          "data": {
            "text/html": [
              "<div>\n",
              "<style scoped>\n",
              "    .dataframe tbody tr th:only-of-type {\n",
              "        vertical-align: middle;\n",
              "    }\n",
              "\n",
              "    .dataframe tbody tr th {\n",
              "        vertical-align: top;\n",
              "    }\n",
              "\n",
              "    .dataframe thead th {\n",
              "        text-align: right;\n",
              "    }\n",
              "</style>\n",
              "<table border=\"1\" class=\"dataframe\">\n",
              "  <thead>\n",
              "    <tr style=\"text-align: right;\">\n",
              "      <th></th>\n",
              "      <th>Hours</th>\n",
              "      <th>Scores</th>\n",
              "    </tr>\n",
              "  </thead>\n",
              "  <tbody>\n",
              "    <tr>\n",
              "      <th>0</th>\n",
              "      <td>2.5</td>\n",
              "      <td>21</td>\n",
              "    </tr>\n",
              "    <tr>\n",
              "      <th>1</th>\n",
              "      <td>5.1</td>\n",
              "      <td>47</td>\n",
              "    </tr>\n",
              "    <tr>\n",
              "      <th>2</th>\n",
              "      <td>3.2</td>\n",
              "      <td>27</td>\n",
              "    </tr>\n",
              "    <tr>\n",
              "      <th>3</th>\n",
              "      <td>8.5</td>\n",
              "      <td>75</td>\n",
              "    </tr>\n",
              "    <tr>\n",
              "      <th>4</th>\n",
              "      <td>3.5</td>\n",
              "      <td>30</td>\n",
              "    </tr>\n",
              "  </tbody>\n",
              "</table>\n",
              "</div>"
            ],
            "text/plain": [
              "   Hours  Scores\n",
              "0    2.5      21\n",
              "1    5.1      47\n",
              "2    3.2      27\n",
              "3    8.5      75\n",
              "4    3.5      30"
            ]
          },
          "metadata": {
            "tags": []
          },
          "execution_count": 3
        }
      ]
    },
    {
      "cell_type": "code",
      "metadata": {
        "colab": {
          "base_uri": "https://localhost:8080/"
        },
        "id": "QnzzIQ2SnOmj",
        "outputId": "ddc6238d-e84d-4ff9-a8b0-e9571fca26eb"
      },
      "source": [
        "#for getting no of rows and columns in dataframe\n",
        "dframe.shape"
      ],
      "execution_count": 4,
      "outputs": [
        {
          "output_type": "execute_result",
          "data": {
            "text/plain": [
              "(25, 2)"
            ]
          },
          "metadata": {
            "tags": []
          },
          "execution_count": 4
        }
      ]
    },
    {
      "cell_type": "markdown",
      "metadata": {
        "id": "C9la_X0Hp-1D"
      },
      "source": [
        "### **Analyzing** **the** **Data**"
      ]
    },
    {
      "cell_type": "code",
      "metadata": {
        "colab": {
          "base_uri": "https://localhost:8080/",
          "height": 295
        },
        "id": "gC_uLkqynu1H",
        "outputId": "b3eb22ed-0fef-4e62-b898-d0dd12cb6d52"
      },
      "source": [
        "# Plotting the distribution of scores\n",
        "dframe.plot(x='Hours', y='Scores', style='o')  \n",
        "plt.title('Hours vs Percentage ')  \n",
        "plt.xlabel('Hours Studied')  \n",
        "plt.ylabel('Percentage Obtained')  \n",
        "plt.show()"
      ],
      "execution_count": 6,
      "outputs": [
        {
          "output_type": "display_data",
          "data": {
            "image/png": "[encoded data removed]",
            "text/plain": [
              "<Figure size 432x288 with 1 Axes>"
            ]
          },
          "metadata": {
            "tags": [],
            "needs_background": "light"
          }
        }
      ]
    },
    {
      "cell_type": "markdown",
      "metadata": {
        "id": "j7iG8LKEr62a"
      },
      "source": [
        "### **Pre**-**Processing** **of** **Data**"
      ]
    },
    {
      "cell_type": "code",
      "metadata": {
        "id": "N7YQZk68sHmS"
      },
      "source": [
        "x= dframe.iloc[:,:-1].values #independent variable x \n",
        "y = dframe.iloc[:, 1].values  #dependent variable y(predicting value)"
      ],
      "execution_count": 10,
      "outputs": []
    },
    {
      "cell_type": "markdown",
      "metadata": {
        "id": "PvyFIZTnseS2"
      },
      "source": [
        "Splitting into training and testing sets."
      ]
    },
    {
      "cell_type": "code",
      "metadata": {
        "id": "_r22cAnxsmMD"
      },
      "source": [
        "from sklearn.model_selection import train_test_split\n",
        "x_train, x_test, y_train, y_test = train_test_split(x, y, test_size = 0.2, random_state = 42)"
      ],
      "execution_count": 11,
      "outputs": []
    },
    {
      "cell_type": "markdown",
      "metadata": {
        "id": "akt2xOkwsqsD"
      },
      "source": [
        "### **Training** **the** **data**"
      ]
    },
    {
      "cell_type": "code",
      "metadata": {
        "id": "x8qnSaIXs0GE"
      },
      "source": [
        "from sklearn.linear_model import LinearRegression\n",
        "regression = LinearRegression()\n",
        "model=regression.fit(x_train, y_train)\n",
        "y_pred=model.predict(x_test)"
      ],
      "execution_count": 14,
      "outputs": []
    },
    {
      "cell_type": "markdown",
      "metadata": {
        "id": "Az5w0LcSs4nx"
      },
      "source": [
        "### **Data** **Predictions**"
      ]
    },
    {
      "cell_type": "code",
      "metadata": {
        "id": "FMt4wSSts7ro"
      },
      "source": [
        "predictions=model.predict(x_test)"
      ],
      "execution_count": 15,
      "outputs": []
    },
    {
      "cell_type": "code",
      "metadata": {
        "colab": {
          "base_uri": "https://localhost:8080/",
          "height": 265
        },
        "id": "knLyij96tBUg",
        "outputId": "e7fddea1-4f2a-4892-f4b9-0fefb465e5b4"
      },
      "source": [
        "# Plotting the BEST FIT Line\n",
        "l = regression.coef_*x+regression.intercept_\n",
        "plt.scatter(x, y)\n",
        "plt.plot(x, l);\n",
        "plt.show()"
      ],
      "execution_count": 16,
      "outputs": [
        {
          "output_type": "display_data",
          "data": {
            "image/png": "[encoded data removed]",
            "text/plain": [
              "<Figure size 432x288 with 1 Axes>"
            ]
          },
          "metadata": {
            "tags": [],
            "needs_background": "light"
          }
        }
      ]
    },
    {
      "cell_type": "code",
      "metadata": {
        "colab": {
          "base_uri": "https://localhost:8080/"
        },
        "id": "bYd3hCjatjl_",
        "outputId": "fa4168ba-571f-46b5-eefb-bb963f0488cd"
      },
      "source": [
        "\n",
        "print(x_test) # Testing data - In Hours\n",
        "y_pred = regression.predict(x_test) # Predicting the scores"
      ],
      "execution_count": 20,
      "outputs": [
        {
          "output_type": "stream",
          "text": [
            "[[9.25]\n",
            " [2.5 ]\n",
            " [2.5 ]\n",
            " [6.9 ]\n",
            " [5.9 ]]\n"
          ],
          "name": "stdout"
        }
      ]
    },
    {
      "cell_type": "code",
      "metadata": {
        "colab": {
          "base_uri": "https://localhost:8080/",
          "height": 204
        },
        "id": "Mr0WL6PkuYKG",
        "outputId": "5d957be1-7e71-4a90-d5b3-f1697111f8f2"
      },
      "source": [
        "# Comparing Actual vs Predicted\n",
        "df = pd.DataFrame({'Actual': y_test, 'Predicted': y_pred})  \n",
        "df "
      ],
      "execution_count": 21,
      "outputs": [
        {
          "output_type": "execute_result",
          "data": {
            "text/html": [
              "<div>\n",
              "<style scoped>\n",
              "    .dataframe tbody tr th:only-of-type {\n",
              "        vertical-align: middle;\n",
              "    }\n",
              "\n",
              "    .dataframe tbody tr th {\n",
              "        vertical-align: top;\n",
              "    }\n",
              "\n",
              "    .dataframe thead th {\n",
              "        text-align: right;\n",
              "    }\n",
              "</style>\n",
              "<table border=\"1\" class=\"dataframe\">\n",
              "  <thead>\n",
              "    <tr style=\"text-align: right;\">\n",
              "      <th></th>\n",
              "      <th>Actual</th>\n",
              "      <th>Predicted</th>\n",
              "    </tr>\n",
              "  </thead>\n",
              "  <tbody>\n",
              "    <tr>\n",
              "      <th>0</th>\n",
              "      <td>81</td>\n",
              "      <td>92.386115</td>\n",
              "    </tr>\n",
              "    <tr>\n",
              "      <th>1</th>\n",
              "      <td>30</td>\n",
              "      <td>27.032088</td>\n",
              "    </tr>\n",
              "    <tr>\n",
              "      <th>2</th>\n",
              "      <td>21</td>\n",
              "      <td>27.032088</td>\n",
              "    </tr>\n",
              "    <tr>\n",
              "      <th>3</th>\n",
              "      <td>76</td>\n",
              "      <td>69.633232</td>\n",
              "    </tr>\n",
              "    <tr>\n",
              "      <th>4</th>\n",
              "      <td>62</td>\n",
              "      <td>59.951153</td>\n",
              "    </tr>\n",
              "  </tbody>\n",
              "</table>\n",
              "</div>"
            ],
            "text/plain": [
              "   Actual  Predicted\n",
              "0      81  92.386115\n",
              "1      30  27.032088\n",
              "2      21  27.032088\n",
              "3      76  69.633232\n",
              "4      62  59.951153"
            ]
          },
          "metadata": {
            "tags": []
          },
          "execution_count": 21
        }
      ]
    },
    {
      "cell_type": "code",
      "metadata": {
        "colab": {
          "base_uri": "https://localhost:8080/"
        },
        "id": "DUnflGyzyO6_",
        "outputId": "72c7bd65-6e14-4d61-e379-99fef2a244aa"
      },
      "source": [
        "# You can also test with your own data\n",
        "hours = 9.25\n",
        "own_pred = regression.predict([[hours]])\n",
        "print(\"No of Hours = {}\".format(hours))\n",
        "print(\"Predicted Score = {}\".format(own_pred[0]))"
      ],
      "execution_count": 32,
      "outputs": [
        {
          "output_type": "stream",
          "text": [
            "No of Hours = 9.25\n",
            "Predicted Score = 92.38611528261494\n"
          ],
          "name": "stdout"
        }
      ]
    },
    {
      "cell_type": "markdown",
      "metadata": {
        "id": "weCPRl8fxDAm"
      },
      "source": [
        "If a student studies for 9.25 hours he is more likely to get 92.4 marks in his exam."
      ]
    }
  ]
}
